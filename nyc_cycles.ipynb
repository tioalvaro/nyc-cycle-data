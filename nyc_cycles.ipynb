{
 "cells": [
  {
   "cell_type": "markdown",
   "metadata": {},
   "source": [
    "Importing all libraries that will be used during this analysis. Since we will run some trend and graphic analysis, all libraries bellow should be used. \n",
    "\n",
    "Note on the dataset - the data is the same for the 210 entries, meaning that we have only one valid month (30 days), the rest of them are only duplicates. "
   ]
  },
  {
   "cell_type": "code",
   "execution_count": 179,
   "metadata": {},
   "outputs": [],
   "source": [
    "import pandas as pd\n",
    "import numpy as np\n",
    "\n",
    "from scipy import stats\n",
    "from scipy.stats import norm\n",
    "import statistics\n",
    "\n",
    "from mlxtend.preprocessing import minmax_scaling\n",
    "\n",
    "import seaborn as sns\n",
    "import matplotlib.pyplot as plt\n",
    "\n",
    "from datetime import datetime, date, time\n",
    "np.random.seed(0)"
   ]
  },
  {
   "cell_type": "code",
   "execution_count": 180,
   "metadata": {},
   "outputs": [],
   "source": [
    "nyc_filepath = \"../raw_data/nyc-east-river-bicycle-counts.csv\""
   ]
  },
  {
   "cell_type": "code",
   "execution_count": 181,
   "metadata": {},
   "outputs": [],
   "source": [
    "nyc_cycle_data = pd.read_csv(nyc_filepath)"
   ]
  },
  {
   "cell_type": "code",
   "execution_count": 182,
   "metadata": {},
   "outputs": [
    {
     "data": {
      "text/html": [
       "<div>\n",
       "<style scoped>\n",
       "    .dataframe tbody tr th:only-of-type {\n",
       "        vertical-align: middle;\n",
       "    }\n",
       "\n",
       "    .dataframe tbody tr th {\n",
       "        vertical-align: top;\n",
       "    }\n",
       "\n",
       "    .dataframe thead th {\n",
       "        text-align: right;\n",
       "    }\n",
       "</style>\n",
       "<table border=\"1\" class=\"dataframe\">\n",
       "  <thead>\n",
       "    <tr style=\"text-align: right;\">\n",
       "      <th></th>\n",
       "      <th>Unnamed: 0</th>\n",
       "      <th>Date</th>\n",
       "      <th>Day</th>\n",
       "      <th>High Temp (°F)</th>\n",
       "      <th>Low Temp (°F)</th>\n",
       "      <th>Precipitation</th>\n",
       "      <th>Brooklyn Bridge</th>\n",
       "      <th>Manhattan Bridge</th>\n",
       "      <th>Williamsburg Bridge</th>\n",
       "      <th>Queensboro Bridge</th>\n",
       "      <th>Total</th>\n",
       "    </tr>\n",
       "  </thead>\n",
       "  <tbody>\n",
       "    <tr>\n",
       "      <th>0</th>\n",
       "      <td>0</td>\n",
       "      <td>2016-04-01 00:00:00</td>\n",
       "      <td>2016-04-01 00:00:00</td>\n",
       "      <td>78.1</td>\n",
       "      <td>66.0</td>\n",
       "      <td>0.01</td>\n",
       "      <td>1704.0</td>\n",
       "      <td>3126</td>\n",
       "      <td>4115.0</td>\n",
       "      <td>2552.0</td>\n",
       "      <td>11497</td>\n",
       "    </tr>\n",
       "    <tr>\n",
       "      <th>1</th>\n",
       "      <td>1</td>\n",
       "      <td>2016-04-02 00:00:00</td>\n",
       "      <td>2016-04-02 00:00:00</td>\n",
       "      <td>55.0</td>\n",
       "      <td>48.9</td>\n",
       "      <td>0.15</td>\n",
       "      <td>827.0</td>\n",
       "      <td>1646</td>\n",
       "      <td>2565.0</td>\n",
       "      <td>1884.0</td>\n",
       "      <td>6922</td>\n",
       "    </tr>\n",
       "    <tr>\n",
       "      <th>2</th>\n",
       "      <td>2</td>\n",
       "      <td>2016-04-03 00:00:00</td>\n",
       "      <td>2016-04-03 00:00:00</td>\n",
       "      <td>39.9</td>\n",
       "      <td>34.0</td>\n",
       "      <td>0.09</td>\n",
       "      <td>526.0</td>\n",
       "      <td>1232</td>\n",
       "      <td>1695.0</td>\n",
       "      <td>1306.0</td>\n",
       "      <td>4759</td>\n",
       "    </tr>\n",
       "    <tr>\n",
       "      <th>3</th>\n",
       "      <td>3</td>\n",
       "      <td>2016-04-04 00:00:00</td>\n",
       "      <td>2016-04-04 00:00:00</td>\n",
       "      <td>44.1</td>\n",
       "      <td>33.1</td>\n",
       "      <td>0.47 (S)</td>\n",
       "      <td>521.0</td>\n",
       "      <td>1067</td>\n",
       "      <td>1440.0</td>\n",
       "      <td>1307.0</td>\n",
       "      <td>4335</td>\n",
       "    </tr>\n",
       "    <tr>\n",
       "      <th>4</th>\n",
       "      <td>4</td>\n",
       "      <td>2016-04-05 00:00:00</td>\n",
       "      <td>2016-04-05 00:00:00</td>\n",
       "      <td>42.1</td>\n",
       "      <td>26.1</td>\n",
       "      <td>0</td>\n",
       "      <td>1416.0</td>\n",
       "      <td>2617</td>\n",
       "      <td>3081.0</td>\n",
       "      <td>2357.0</td>\n",
       "      <td>9471</td>\n",
       "    </tr>\n",
       "  </tbody>\n",
       "</table>\n",
       "</div>"
      ],
      "text/plain": [
       "   Unnamed: 0                 Date                  Day  High Temp (°F)   \n",
       "0           0  2016-04-01 00:00:00  2016-04-01 00:00:00            78.1  \\\n",
       "1           1  2016-04-02 00:00:00  2016-04-02 00:00:00            55.0   \n",
       "2           2  2016-04-03 00:00:00  2016-04-03 00:00:00            39.9   \n",
       "3           3  2016-04-04 00:00:00  2016-04-04 00:00:00            44.1   \n",
       "4           4  2016-04-05 00:00:00  2016-04-05 00:00:00            42.1   \n",
       "\n",
       "   Low Temp (°F) Precipitation  Brooklyn Bridge  Manhattan Bridge   \n",
       "0           66.0          0.01           1704.0              3126  \\\n",
       "1           48.9          0.15            827.0              1646   \n",
       "2           34.0          0.09            526.0              1232   \n",
       "3           33.1      0.47 (S)            521.0              1067   \n",
       "4           26.1             0           1416.0              2617   \n",
       "\n",
       "   Williamsburg Bridge  Queensboro Bridge  Total  \n",
       "0               4115.0             2552.0  11497  \n",
       "1               2565.0             1884.0   6922  \n",
       "2               1695.0             1306.0   4759  \n",
       "3               1440.0             1307.0   4335  \n",
       "4               3081.0             2357.0   9471  "
      ]
     },
     "execution_count": 182,
     "metadata": {},
     "output_type": "execute_result"
    }
   ],
   "source": [
    "nyc_cycle_data.head()"
   ]
  },
  {
   "cell_type": "markdown",
   "metadata": {},
   "source": [
    "Checking current data shape to understand what are the necessary analysis that can be run."
   ]
  },
  {
   "cell_type": "code",
   "execution_count": 183,
   "metadata": {},
   "outputs": [
    {
     "name": "stdout",
     "output_type": "stream",
     "text": [
      "(210, 11)\n",
      "<bound method DataFrame.info of      Unnamed: 0                 Date                  Day  High Temp (°F)   \n",
      "0             0  2016-04-01 00:00:00  2016-04-01 00:00:00            78.1  \\\n",
      "1             1  2016-04-02 00:00:00  2016-04-02 00:00:00            55.0   \n",
      "2             2  2016-04-03 00:00:00  2016-04-03 00:00:00            39.9   \n",
      "3             3  2016-04-04 00:00:00  2016-04-04 00:00:00            44.1   \n",
      "4             4  2016-04-05 00:00:00  2016-04-05 00:00:00            42.1   \n",
      "..          ...                  ...                  ...             ...   \n",
      "205         205  2016-04-26 00:00:00  2016-04-26 00:00:00            60.1   \n",
      "206         206  2016-04-27 00:00:00  2016-04-27 00:00:00            62.1   \n",
      "207         207  2016-04-28 00:00:00  2016-04-28 00:00:00            57.9   \n",
      "208         208  2016-04-29 00:00:00  2016-04-29 00:00:00            57.0   \n",
      "209         209  2016-04-30 00:00:00  2016-04-30 00:00:00            64.0   \n",
      "\n",
      "     Low Temp (°F) Precipitation  Brooklyn Bridge  Manhattan Bridge   \n",
      "0             66.0          0.01           1704.0              3126  \\\n",
      "1             48.9          0.15            827.0              1646   \n",
      "2             34.0          0.09            526.0              1232   \n",
      "3             33.1      0.47 (S)            521.0              1067   \n",
      "4             26.1             0           1416.0              2617   \n",
      "..             ...           ...              ...               ...   \n",
      "205           46.9          0.24           1997.0              3520   \n",
      "206           46.9             0           3343.0              5606   \n",
      "207           48.0             0           2486.0              4152   \n",
      "208           46.9          0.05           2375.0              4178   \n",
      "209           48.0             0           3199.0              4952   \n",
      "\n",
      "     Williamsburg Bridge  Queensboro Bridge  Total  \n",
      "0                 4115.0             2552.0  11497  \n",
      "1                 2565.0             1884.0   6922  \n",
      "2                 1695.0             1306.0   4759  \n",
      "3                 1440.0             1307.0   4335  \n",
      "4                 3081.0             2357.0   9471  \n",
      "..                   ...                ...    ...  \n",
      "205               4559.0             2929.0  13005  \n",
      "206               6577.0             4388.0  19914  \n",
      "207               5336.0             3657.0  15631  \n",
      "208               5053.0             3348.0  14954  \n",
      "209               5675.0             3606.0  17432  \n",
      "\n",
      "[210 rows x 11 columns]>\n"
     ]
    }
   ],
   "source": [
    "print(nyc_cycle_data.shape)\n",
    "print(nyc_cycle_data.info)"
   ]
  },
  {
   "cell_type": "code",
   "execution_count": 184,
   "metadata": {},
   "outputs": [],
   "source": [
    "new_nyc_data = nyc_cycle_data.drop_duplicates(subset=['Date'])"
   ]
  },
  {
   "cell_type": "markdown",
   "metadata": {},
   "source": [
    "Decided to create a 'mean temperature' using low and high temperature. It's not the best apporach, but might give some interesting insights over how temprature affects the quantity of cyclists."
   ]
  },
  {
   "cell_type": "code",
   "execution_count": 185,
   "metadata": {},
   "outputs": [
    {
     "name": "stderr",
     "output_type": "stream",
     "text": [
      "/tmp/ipykernel_6424/463364123.py:1: SettingWithCopyWarning: \n",
      "A value is trying to be set on a copy of a slice from a DataFrame.\n",
      "Try using .loc[row_indexer,col_indexer] = value instead\n",
      "\n",
      "See the caveats in the documentation: https://pandas.pydata.org/pandas-docs/stable/user_guide/indexing.html#returning-a-view-versus-a-copy\n",
      "  new_nyc_data[\"mean temperature\"] = (new_nyc_data['Low Temp (°F)'] + new_nyc_data['High Temp (°F)'])/2\n"
     ]
    }
   ],
   "source": [
    "new_nyc_data[\"mean temperature\"] = (new_nyc_data['Low Temp (°F)'] + new_nyc_data['High Temp (°F)'])/2"
   ]
  },
  {
   "cell_type": "code",
   "execution_count": 186,
   "metadata": {},
   "outputs": [
    {
     "data": {
      "text/html": [
       "<div>\n",
       "<style scoped>\n",
       "    .dataframe tbody tr th:only-of-type {\n",
       "        vertical-align: middle;\n",
       "    }\n",
       "\n",
       "    .dataframe tbody tr th {\n",
       "        vertical-align: top;\n",
       "    }\n",
       "\n",
       "    .dataframe thead th {\n",
       "        text-align: right;\n",
       "    }\n",
       "</style>\n",
       "<table border=\"1\" class=\"dataframe\">\n",
       "  <thead>\n",
       "    <tr style=\"text-align: right;\">\n",
       "      <th></th>\n",
       "      <th>Unnamed: 0</th>\n",
       "      <th>Date</th>\n",
       "      <th>Day</th>\n",
       "      <th>High Temp (°F)</th>\n",
       "      <th>Low Temp (°F)</th>\n",
       "      <th>Precipitation</th>\n",
       "      <th>Brooklyn Bridge</th>\n",
       "      <th>Manhattan Bridge</th>\n",
       "      <th>Williamsburg Bridge</th>\n",
       "      <th>Queensboro Bridge</th>\n",
       "      <th>Total</th>\n",
       "      <th>mean temperature</th>\n",
       "    </tr>\n",
       "  </thead>\n",
       "  <tbody>\n",
       "    <tr>\n",
       "      <th>25</th>\n",
       "      <td>25</td>\n",
       "      <td>2016-04-26 00:00:00</td>\n",
       "      <td>2016-04-26 00:00:00</td>\n",
       "      <td>60.1</td>\n",
       "      <td>46.9</td>\n",
       "      <td>0.24</td>\n",
       "      <td>1997.0</td>\n",
       "      <td>3520</td>\n",
       "      <td>4559.0</td>\n",
       "      <td>2929.0</td>\n",
       "      <td>13005</td>\n",
       "      <td>53.50</td>\n",
       "    </tr>\n",
       "    <tr>\n",
       "      <th>26</th>\n",
       "      <td>26</td>\n",
       "      <td>2016-04-27 00:00:00</td>\n",
       "      <td>2016-04-27 00:00:00</td>\n",
       "      <td>62.1</td>\n",
       "      <td>46.9</td>\n",
       "      <td>0</td>\n",
       "      <td>3343.0</td>\n",
       "      <td>5606</td>\n",
       "      <td>6577.0</td>\n",
       "      <td>4388.0</td>\n",
       "      <td>19914</td>\n",
       "      <td>54.50</td>\n",
       "    </tr>\n",
       "    <tr>\n",
       "      <th>27</th>\n",
       "      <td>27</td>\n",
       "      <td>2016-04-28 00:00:00</td>\n",
       "      <td>2016-04-28 00:00:00</td>\n",
       "      <td>57.9</td>\n",
       "      <td>48.0</td>\n",
       "      <td>0</td>\n",
       "      <td>2486.0</td>\n",
       "      <td>4152</td>\n",
       "      <td>5336.0</td>\n",
       "      <td>3657.0</td>\n",
       "      <td>15631</td>\n",
       "      <td>52.95</td>\n",
       "    </tr>\n",
       "    <tr>\n",
       "      <th>28</th>\n",
       "      <td>28</td>\n",
       "      <td>2016-04-29 00:00:00</td>\n",
       "      <td>2016-04-29 00:00:00</td>\n",
       "      <td>57.0</td>\n",
       "      <td>46.9</td>\n",
       "      <td>0.05</td>\n",
       "      <td>2375.0</td>\n",
       "      <td>4178</td>\n",
       "      <td>5053.0</td>\n",
       "      <td>3348.0</td>\n",
       "      <td>14954</td>\n",
       "      <td>51.95</td>\n",
       "    </tr>\n",
       "    <tr>\n",
       "      <th>29</th>\n",
       "      <td>29</td>\n",
       "      <td>2016-04-30 00:00:00</td>\n",
       "      <td>2016-04-30 00:00:00</td>\n",
       "      <td>64.0</td>\n",
       "      <td>48.0</td>\n",
       "      <td>0</td>\n",
       "      <td>3199.0</td>\n",
       "      <td>4952</td>\n",
       "      <td>5675.0</td>\n",
       "      <td>3606.0</td>\n",
       "      <td>17432</td>\n",
       "      <td>56.00</td>\n",
       "    </tr>\n",
       "  </tbody>\n",
       "</table>\n",
       "</div>"
      ],
      "text/plain": [
       "    Unnamed: 0                 Date                  Day  High Temp (°F)   \n",
       "25          25  2016-04-26 00:00:00  2016-04-26 00:00:00            60.1  \\\n",
       "26          26  2016-04-27 00:00:00  2016-04-27 00:00:00            62.1   \n",
       "27          27  2016-04-28 00:00:00  2016-04-28 00:00:00            57.9   \n",
       "28          28  2016-04-29 00:00:00  2016-04-29 00:00:00            57.0   \n",
       "29          29  2016-04-30 00:00:00  2016-04-30 00:00:00            64.0   \n",
       "\n",
       "    Low Temp (°F) Precipitation  Brooklyn Bridge  Manhattan Bridge   \n",
       "25           46.9          0.24           1997.0              3520  \\\n",
       "26           46.9             0           3343.0              5606   \n",
       "27           48.0             0           2486.0              4152   \n",
       "28           46.9          0.05           2375.0              4178   \n",
       "29           48.0             0           3199.0              4952   \n",
       "\n",
       "    Williamsburg Bridge  Queensboro Bridge  Total  mean temperature  \n",
       "25               4559.0             2929.0  13005             53.50  \n",
       "26               6577.0             4388.0  19914             54.50  \n",
       "27               5336.0             3657.0  15631             52.95  \n",
       "28               5053.0             3348.0  14954             51.95  \n",
       "29               5675.0             3606.0  17432             56.00  "
      ]
     },
     "execution_count": 186,
     "metadata": {},
     "output_type": "execute_result"
    }
   ],
   "source": [
    "new_nyc_data.tail()"
   ]
  },
  {
   "cell_type": "markdown",
   "metadata": {},
   "source": [
    "Noted that on precipitation column had a mixed type (int and str), did some transformations to separate the data without loosing any information. Note that (S) means Snow, and T was traces of rain, which in this case I decided to substitute for 0"
   ]
  },
  {
   "cell_type": "code",
   "execution_count": 187,
   "metadata": {},
   "outputs": [
    {
     "name": "stdout",
     "output_type": "stream",
     "text": [
      "0         0.01\n",
      "1         0.15\n",
      "2         0.09\n",
      "3     0.47 (S)\n",
      "4            0\n",
      "5            0\n",
      "6         0.09\n",
      "7         0.01\n",
      "8         0.09\n",
      "9            0\n",
      "10        0.01\n",
      "11         0.2\n",
      "12           0\n",
      "13           0\n",
      "14           0\n",
      "15           0\n",
      "16           0\n",
      "17           0\n",
      "18           0\n",
      "19           0\n",
      "20           0\n",
      "21           T\n",
      "22        0.16\n",
      "23           0\n",
      "24           0\n",
      "25        0.24\n",
      "26           0\n",
      "27           0\n",
      "28        0.05\n",
      "29           0\n",
      "Name: Precipitation, dtype: object\n"
     ]
    },
    {
     "name": "stderr",
     "output_type": "stream",
     "text": [
      "/tmp/ipykernel_6424/4098572141.py:3: SettingWithCopyWarning: \n",
      "A value is trying to be set on a copy of a slice from a DataFrame.\n",
      "Try using .loc[row_indexer,col_indexer] = value instead\n",
      "\n",
      "See the caveats in the documentation: https://pandas.pydata.org/pandas-docs/stable/user_guide/indexing.html#returning-a-view-versus-a-copy\n",
      "  new_nyc_data[\"Precipitation\"] = precipitation_data[0]\n",
      "/tmp/ipykernel_6424/4098572141.py:4: SettingWithCopyWarning: \n",
      "A value is trying to be set on a copy of a slice from a DataFrame.\n",
      "Try using .loc[row_indexer,col_indexer] = value instead\n",
      "\n",
      "See the caveats in the documentation: https://pandas.pydata.org/pandas-docs/stable/user_guide/indexing.html#returning-a-view-versus-a-copy\n",
      "  new_nyc_data[\"Weather State\"] = precipitation_data [1]\n"
     ]
    }
   ],
   "source": [
    "print(new_nyc_data['Precipitation'])\n",
    "precipitation_data = new_nyc_data['Precipitation'].str.split(\" \", n=1, expand=True)\n",
    "new_nyc_data[\"Precipitation\"] = precipitation_data[0]\n",
    "new_nyc_data[\"Weather State\"] = precipitation_data [1]"
   ]
  },
  {
   "cell_type": "code",
   "execution_count": 188,
   "metadata": {},
   "outputs": [
    {
     "data": {
      "text/html": [
       "<div>\n",
       "<style scoped>\n",
       "    .dataframe tbody tr th:only-of-type {\n",
       "        vertical-align: middle;\n",
       "    }\n",
       "\n",
       "    .dataframe tbody tr th {\n",
       "        vertical-align: top;\n",
       "    }\n",
       "\n",
       "    .dataframe thead th {\n",
       "        text-align: right;\n",
       "    }\n",
       "</style>\n",
       "<table border=\"1\" class=\"dataframe\">\n",
       "  <thead>\n",
       "    <tr style=\"text-align: right;\">\n",
       "      <th></th>\n",
       "      <th>Unnamed: 0</th>\n",
       "      <th>Date</th>\n",
       "      <th>Day</th>\n",
       "      <th>High Temp (°F)</th>\n",
       "      <th>Low Temp (°F)</th>\n",
       "      <th>Precipitation</th>\n",
       "      <th>Brooklyn Bridge</th>\n",
       "      <th>Manhattan Bridge</th>\n",
       "      <th>Williamsburg Bridge</th>\n",
       "      <th>Queensboro Bridge</th>\n",
       "      <th>Total</th>\n",
       "      <th>mean temperature</th>\n",
       "      <th>Weather State</th>\n",
       "    </tr>\n",
       "  </thead>\n",
       "  <tbody>\n",
       "    <tr>\n",
       "      <th>25</th>\n",
       "      <td>25</td>\n",
       "      <td>2016-04-26 00:00:00</td>\n",
       "      <td>2016-04-26 00:00:00</td>\n",
       "      <td>60.1</td>\n",
       "      <td>46.9</td>\n",
       "      <td>0.24</td>\n",
       "      <td>1997.0</td>\n",
       "      <td>3520</td>\n",
       "      <td>4559.0</td>\n",
       "      <td>2929.0</td>\n",
       "      <td>13005</td>\n",
       "      <td>53.50</td>\n",
       "      <td>None</td>\n",
       "    </tr>\n",
       "    <tr>\n",
       "      <th>26</th>\n",
       "      <td>26</td>\n",
       "      <td>2016-04-27 00:00:00</td>\n",
       "      <td>2016-04-27 00:00:00</td>\n",
       "      <td>62.1</td>\n",
       "      <td>46.9</td>\n",
       "      <td>0</td>\n",
       "      <td>3343.0</td>\n",
       "      <td>5606</td>\n",
       "      <td>6577.0</td>\n",
       "      <td>4388.0</td>\n",
       "      <td>19914</td>\n",
       "      <td>54.50</td>\n",
       "      <td>None</td>\n",
       "    </tr>\n",
       "    <tr>\n",
       "      <th>27</th>\n",
       "      <td>27</td>\n",
       "      <td>2016-04-28 00:00:00</td>\n",
       "      <td>2016-04-28 00:00:00</td>\n",
       "      <td>57.9</td>\n",
       "      <td>48.0</td>\n",
       "      <td>0</td>\n",
       "      <td>2486.0</td>\n",
       "      <td>4152</td>\n",
       "      <td>5336.0</td>\n",
       "      <td>3657.0</td>\n",
       "      <td>15631</td>\n",
       "      <td>52.95</td>\n",
       "      <td>None</td>\n",
       "    </tr>\n",
       "    <tr>\n",
       "      <th>28</th>\n",
       "      <td>28</td>\n",
       "      <td>2016-04-29 00:00:00</td>\n",
       "      <td>2016-04-29 00:00:00</td>\n",
       "      <td>57.0</td>\n",
       "      <td>46.9</td>\n",
       "      <td>0.05</td>\n",
       "      <td>2375.0</td>\n",
       "      <td>4178</td>\n",
       "      <td>5053.0</td>\n",
       "      <td>3348.0</td>\n",
       "      <td>14954</td>\n",
       "      <td>51.95</td>\n",
       "      <td>None</td>\n",
       "    </tr>\n",
       "    <tr>\n",
       "      <th>29</th>\n",
       "      <td>29</td>\n",
       "      <td>2016-04-30 00:00:00</td>\n",
       "      <td>2016-04-30 00:00:00</td>\n",
       "      <td>64.0</td>\n",
       "      <td>48.0</td>\n",
       "      <td>0</td>\n",
       "      <td>3199.0</td>\n",
       "      <td>4952</td>\n",
       "      <td>5675.0</td>\n",
       "      <td>3606.0</td>\n",
       "      <td>17432</td>\n",
       "      <td>56.00</td>\n",
       "      <td>None</td>\n",
       "    </tr>\n",
       "  </tbody>\n",
       "</table>\n",
       "</div>"
      ],
      "text/plain": [
       "    Unnamed: 0                 Date                  Day  High Temp (°F)   \n",
       "25          25  2016-04-26 00:00:00  2016-04-26 00:00:00            60.1  \\\n",
       "26          26  2016-04-27 00:00:00  2016-04-27 00:00:00            62.1   \n",
       "27          27  2016-04-28 00:00:00  2016-04-28 00:00:00            57.9   \n",
       "28          28  2016-04-29 00:00:00  2016-04-29 00:00:00            57.0   \n",
       "29          29  2016-04-30 00:00:00  2016-04-30 00:00:00            64.0   \n",
       "\n",
       "    Low Temp (°F) Precipitation  Brooklyn Bridge  Manhattan Bridge   \n",
       "25           46.9          0.24           1997.0              3520  \\\n",
       "26           46.9             0           3343.0              5606   \n",
       "27           48.0             0           2486.0              4152   \n",
       "28           46.9          0.05           2375.0              4178   \n",
       "29           48.0             0           3199.0              4952   \n",
       "\n",
       "    Williamsburg Bridge  Queensboro Bridge  Total  mean temperature   \n",
       "25               4559.0             2929.0  13005             53.50  \\\n",
       "26               6577.0             4388.0  19914             54.50   \n",
       "27               5336.0             3657.0  15631             52.95   \n",
       "28               5053.0             3348.0  14954             51.95   \n",
       "29               5675.0             3606.0  17432             56.00   \n",
       "\n",
       "   Weather State  \n",
       "25          None  \n",
       "26          None  \n",
       "27          None  \n",
       "28          None  \n",
       "29          None  "
      ]
     },
     "execution_count": 188,
     "metadata": {},
     "output_type": "execute_result"
    }
   ],
   "source": [
    "new_nyc_data.tail()"
   ]
  },
  {
   "cell_type": "code",
   "execution_count": 189,
   "metadata": {},
   "outputs": [
    {
     "name": "stderr",
     "output_type": "stream",
     "text": [
      "/tmp/ipykernel_6424/3238537556.py:1: SettingWithCopyWarning: \n",
      "A value is trying to be set on a copy of a slice from a DataFrame.\n",
      "Try using .loc[row_indexer,col_indexer] = value instead\n",
      "\n",
      "See the caveats in the documentation: https://pandas.pydata.org/pandas-docs/stable/user_guide/indexing.html#returning-a-view-versus-a-copy\n",
      "  new_nyc_data['Precipitation'] = new_nyc_data['Precipitation'].str.replace(\"T\", \"0.01\")\n"
     ]
    }
   ],
   "source": [
    "new_nyc_data['Precipitation'] = new_nyc_data['Precipitation'].str.replace(\"T\", \"0.01\")"
   ]
  },
  {
   "cell_type": "code",
   "execution_count": 190,
   "metadata": {},
   "outputs": [
    {
     "data": {
      "text/plain": [
       "0     0.01\n",
       "1     0.15\n",
       "2     0.09\n",
       "3     0.47\n",
       "4        0\n",
       "5        0\n",
       "6     0.09\n",
       "7     0.01\n",
       "8     0.09\n",
       "9        0\n",
       "10    0.01\n",
       "11     0.2\n",
       "12       0\n",
       "13       0\n",
       "14       0\n",
       "15       0\n",
       "16       0\n",
       "17       0\n",
       "18       0\n",
       "19       0\n",
       "20       0\n",
       "21    0.01\n",
       "22    0.16\n",
       "23       0\n",
       "24       0\n",
       "25    0.24\n",
       "26       0\n",
       "27       0\n",
       "28    0.05\n",
       "29       0\n",
       "Name: Precipitation, dtype: object"
      ]
     },
     "execution_count": 190,
     "metadata": {},
     "output_type": "execute_result"
    }
   ],
   "source": [
    "new_nyc_data['Precipitation']"
   ]
  },
  {
   "cell_type": "markdown",
   "metadata": {},
   "source": [
    "Scaled the precipitation data using minmax_scaling, so everything would fall in a 0 - 1 range, facilitating the analysis. "
   ]
  },
  {
   "cell_type": "code",
   "execution_count": 191,
   "metadata": {},
   "outputs": [],
   "source": [
    "original_data = pd.DataFrame(new_nyc_data['Precipitation'])\n",
    "\n",
    "scaled_data = minmax_scaling(original_data, columns=['Precipitation'])"
   ]
  },
  {
   "cell_type": "code",
   "execution_count": 192,
   "metadata": {},
   "outputs": [
    {
     "data": {
      "text/html": [
       "<div>\n",
       "<style scoped>\n",
       "    .dataframe tbody tr th:only-of-type {\n",
       "        vertical-align: middle;\n",
       "    }\n",
       "\n",
       "    .dataframe tbody tr th {\n",
       "        vertical-align: top;\n",
       "    }\n",
       "\n",
       "    .dataframe thead th {\n",
       "        text-align: right;\n",
       "    }\n",
       "</style>\n",
       "<table border=\"1\" class=\"dataframe\">\n",
       "  <thead>\n",
       "    <tr style=\"text-align: right;\">\n",
       "      <th></th>\n",
       "      <th>Precipitation</th>\n",
       "    </tr>\n",
       "  </thead>\n",
       "  <tbody>\n",
       "    <tr>\n",
       "      <th>0</th>\n",
       "      <td>0.021277</td>\n",
       "    </tr>\n",
       "    <tr>\n",
       "      <th>1</th>\n",
       "      <td>0.319149</td>\n",
       "    </tr>\n",
       "    <tr>\n",
       "      <th>2</th>\n",
       "      <td>0.191489</td>\n",
       "    </tr>\n",
       "    <tr>\n",
       "      <th>3</th>\n",
       "      <td>1.000000</td>\n",
       "    </tr>\n",
       "    <tr>\n",
       "      <th>4</th>\n",
       "      <td>0.000000</td>\n",
       "    </tr>\n",
       "    <tr>\n",
       "      <th>5</th>\n",
       "      <td>0.000000</td>\n",
       "    </tr>\n",
       "    <tr>\n",
       "      <th>6</th>\n",
       "      <td>0.191489</td>\n",
       "    </tr>\n",
       "    <tr>\n",
       "      <th>7</th>\n",
       "      <td>0.021277</td>\n",
       "    </tr>\n",
       "    <tr>\n",
       "      <th>8</th>\n",
       "      <td>0.191489</td>\n",
       "    </tr>\n",
       "    <tr>\n",
       "      <th>9</th>\n",
       "      <td>0.000000</td>\n",
       "    </tr>\n",
       "    <tr>\n",
       "      <th>10</th>\n",
       "      <td>0.021277</td>\n",
       "    </tr>\n",
       "    <tr>\n",
       "      <th>11</th>\n",
       "      <td>0.425532</td>\n",
       "    </tr>\n",
       "    <tr>\n",
       "      <th>12</th>\n",
       "      <td>0.000000</td>\n",
       "    </tr>\n",
       "    <tr>\n",
       "      <th>13</th>\n",
       "      <td>0.000000</td>\n",
       "    </tr>\n",
       "    <tr>\n",
       "      <th>14</th>\n",
       "      <td>0.000000</td>\n",
       "    </tr>\n",
       "    <tr>\n",
       "      <th>15</th>\n",
       "      <td>0.000000</td>\n",
       "    </tr>\n",
       "    <tr>\n",
       "      <th>16</th>\n",
       "      <td>0.000000</td>\n",
       "    </tr>\n",
       "    <tr>\n",
       "      <th>17</th>\n",
       "      <td>0.000000</td>\n",
       "    </tr>\n",
       "    <tr>\n",
       "      <th>18</th>\n",
       "      <td>0.000000</td>\n",
       "    </tr>\n",
       "    <tr>\n",
       "      <th>19</th>\n",
       "      <td>0.000000</td>\n",
       "    </tr>\n",
       "    <tr>\n",
       "      <th>20</th>\n",
       "      <td>0.000000</td>\n",
       "    </tr>\n",
       "    <tr>\n",
       "      <th>21</th>\n",
       "      <td>0.021277</td>\n",
       "    </tr>\n",
       "    <tr>\n",
       "      <th>22</th>\n",
       "      <td>0.340426</td>\n",
       "    </tr>\n",
       "    <tr>\n",
       "      <th>23</th>\n",
       "      <td>0.000000</td>\n",
       "    </tr>\n",
       "    <tr>\n",
       "      <th>24</th>\n",
       "      <td>0.000000</td>\n",
       "    </tr>\n",
       "    <tr>\n",
       "      <th>25</th>\n",
       "      <td>0.510638</td>\n",
       "    </tr>\n",
       "    <tr>\n",
       "      <th>26</th>\n",
       "      <td>0.000000</td>\n",
       "    </tr>\n",
       "    <tr>\n",
       "      <th>27</th>\n",
       "      <td>0.000000</td>\n",
       "    </tr>\n",
       "    <tr>\n",
       "      <th>28</th>\n",
       "      <td>0.106383</td>\n",
       "    </tr>\n",
       "    <tr>\n",
       "      <th>29</th>\n",
       "      <td>0.000000</td>\n",
       "    </tr>\n",
       "  </tbody>\n",
       "</table>\n",
       "</div>"
      ],
      "text/plain": [
       "    Precipitation\n",
       "0        0.021277\n",
       "1        0.319149\n",
       "2        0.191489\n",
       "3        1.000000\n",
       "4        0.000000\n",
       "5        0.000000\n",
       "6        0.191489\n",
       "7        0.021277\n",
       "8        0.191489\n",
       "9        0.000000\n",
       "10       0.021277\n",
       "11       0.425532\n",
       "12       0.000000\n",
       "13       0.000000\n",
       "14       0.000000\n",
       "15       0.000000\n",
       "16       0.000000\n",
       "17       0.000000\n",
       "18       0.000000\n",
       "19       0.000000\n",
       "20       0.000000\n",
       "21       0.021277\n",
       "22       0.340426\n",
       "23       0.000000\n",
       "24       0.000000\n",
       "25       0.510638\n",
       "26       0.000000\n",
       "27       0.000000\n",
       "28       0.106383\n",
       "29       0.000000"
      ]
     },
     "execution_count": 192,
     "metadata": {},
     "output_type": "execute_result"
    }
   ],
   "source": [
    "scaled_data"
   ]
  },
  {
   "cell_type": "markdown",
   "metadata": {},
   "source": [
    "Adjusting the column 'Date' in order to get only the full date and not effective time since they are all 00:00:00 so can be dismissed. "
   ]
  },
  {
   "cell_type": "code",
   "execution_count": 193,
   "metadata": {},
   "outputs": [
    {
     "name": "stderr",
     "output_type": "stream",
     "text": [
      "/tmp/ipykernel_6424/4117213573.py:1: SettingWithCopyWarning: \n",
      "A value is trying to be set on a copy of a slice from a DataFrame.\n",
      "Try using .loc[row_indexer,col_indexer] = value instead\n",
      "\n",
      "See the caveats in the documentation: https://pandas.pydata.org/pandas-docs/stable/user_guide/indexing.html#returning-a-view-versus-a-copy\n",
      "  new_nyc_data['Date'] = pd.to_datetime(new_nyc_data['Date']).dt.date\n",
      "/tmp/ipykernel_6424/4117213573.py:2: SettingWithCopyWarning: \n",
      "A value is trying to be set on a copy of a slice from a DataFrame.\n",
      "Try using .loc[row_indexer,col_indexer] = value instead\n",
      "\n",
      "See the caveats in the documentation: https://pandas.pydata.org/pandas-docs/stable/user_guide/indexing.html#returning-a-view-versus-a-copy\n",
      "  new_nyc_data['Day'] = pd.to_datetime(new_nyc_data['Date']).dt.day\n"
     ]
    }
   ],
   "source": [
    "new_nyc_data['Date'] = pd.to_datetime(new_nyc_data['Date']).dt.date\n",
    "new_nyc_data['Day'] = pd.to_datetime(new_nyc_data['Date']).dt.day"
   ]
  },
  {
   "cell_type": "code",
   "execution_count": 194,
   "metadata": {},
   "outputs": [
    {
     "data": {
      "text/plain": [
       "0      1\n",
       "1      2\n",
       "2      3\n",
       "3      4\n",
       "4      5\n",
       "5      6\n",
       "6      7\n",
       "7      8\n",
       "8      9\n",
       "9     10\n",
       "10    11\n",
       "11    12\n",
       "12    13\n",
       "13    14\n",
       "14    15\n",
       "15    16\n",
       "16    17\n",
       "17    18\n",
       "18    19\n",
       "19    20\n",
       "20    21\n",
       "21    22\n",
       "22    23\n",
       "23    24\n",
       "24    25\n",
       "25    26\n",
       "26    27\n",
       "27    28\n",
       "28    29\n",
       "29    30\n",
       "Name: Day, dtype: int32"
      ]
     },
     "execution_count": 194,
     "metadata": {},
     "output_type": "execute_result"
    }
   ],
   "source": [
    "new_nyc_data['Day']"
   ]
  },
  {
   "cell_type": "markdown",
   "metadata": {},
   "source": [
    "Plotting the total of cyclists per day using a barplot. "
   ]
  },
  {
   "cell_type": "code",
   "execution_count": 195,
   "metadata": {},
   "outputs": [
    {
     "data": {
      "text/plain": [
       "<Axes: title={'center': 'Total Number of cyclists per day'}, xlabel='Date', ylabel='Total'>"
      ]
     },
     "execution_count": 195,
     "metadata": {},
     "output_type": "execute_result"
    },
    {
     "data": {
      "image/png": "[encoded data removed]",
      "text/plain": [
       "<Figure size 1600x1200 with 1 Axes>"
      ]
     },
     "metadata": {},
     "output_type": "display_data"
    }
   ],
   "source": [
    "plt.figure(figsize=(16,12))\n",
    "plt.title('Total Number of cyclists per day')\n",
    "plt.xticks(rotation=45)\n",
    "sns.barplot(x=new_nyc_data['Date'], y=new_nyc_data['Total'])\n"
   ]
  },
  {
   "cell_type": "markdown",
   "metadata": {},
   "source": [
    "Using mean temperature and a scatterplot to understand the possible relation of higher tempratures to a higher number of cyclists, which can be infered later by the regression plot. \n",
    "\n",
    "Note that regression plot might not be the most suitable use for this."
   ]
  },
  {
   "cell_type": "code",
   "execution_count": 196,
   "metadata": {},
   "outputs": [
    {
     "data": {
      "text/plain": [
       "<Axes: xlabel='mean temperature', ylabel='Total'>"
      ]
     },
     "execution_count": 196,
     "metadata": {},
     "output_type": "execute_result"
    },
    {
     "data": {
      "image/png": "[encoded data removed]",
      "text/plain": [
       "<Figure size 640x480 with 1 Axes>"
      ]
     },
     "metadata": {},
     "output_type": "display_data"
    }
   ],
   "source": [
    "sns.scatterplot(x=new_nyc_data['mean temperature'], y=new_nyc_data['Total'])"
   ]
  },
  {
   "cell_type": "code",
   "execution_count": 197,
   "metadata": {},
   "outputs": [
    {
     "data": {
      "text/plain": [
       "<Axes: xlabel='mean temperature', ylabel='Total'>"
      ]
     },
     "execution_count": 197,
     "metadata": {},
     "output_type": "execute_result"
    },
    {
     "data": {
      "image/png": "[encoded data removed]",
      "text/plain": [
       "<Figure size 640x480 with 1 Axes>"
      ]
     },
     "metadata": {},
     "output_type": "display_data"
    }
   ],
   "source": [
    "sns.regplot(x=new_nyc_data['mean temperature'], y=new_nyc_data['Total'])"
   ]
  },
  {
   "cell_type": "code",
   "execution_count": 198,
   "metadata": {},
   "outputs": [
    {
     "name": "stderr",
     "output_type": "stream",
     "text": [
      "/tmp/ipykernel_6424/2321674248.py:1: SettingWithCopyWarning: \n",
      "A value is trying to be set on a copy of a slice from a DataFrame.\n",
      "Try using .loc[row_indexer,col_indexer] = value instead\n",
      "\n",
      "See the caveats in the documentation: https://pandas.pydata.org/pandas-docs/stable/user_guide/indexing.html#returning-a-view-versus-a-copy\n",
      "  new_nyc_data['Precipitation Normalized'] = scaled_data\n"
     ]
    }
   ],
   "source": [
    "new_nyc_data['Precipitation Normalized'] = scaled_data"
   ]
  },
  {
   "cell_type": "code",
   "execution_count": 199,
   "metadata": {},
   "outputs": [
    {
     "data": {
      "text/html": [
       "<div>\n",
       "<style scoped>\n",
       "    .dataframe tbody tr th:only-of-type {\n",
       "        vertical-align: middle;\n",
       "    }\n",
       "\n",
       "    .dataframe tbody tr th {\n",
       "        vertical-align: top;\n",
       "    }\n",
       "\n",
       "    .dataframe thead th {\n",
       "        text-align: right;\n",
       "    }\n",
       "</style>\n",
       "<table border=\"1\" class=\"dataframe\">\n",
       "  <thead>\n",
       "    <tr style=\"text-align: right;\">\n",
       "      <th></th>\n",
       "      <th>Unnamed: 0</th>\n",
       "      <th>Date</th>\n",
       "      <th>Day</th>\n",
       "      <th>High Temp (°F)</th>\n",
       "      <th>Low Temp (°F)</th>\n",
       "      <th>Precipitation</th>\n",
       "      <th>Brooklyn Bridge</th>\n",
       "      <th>Manhattan Bridge</th>\n",
       "      <th>Williamsburg Bridge</th>\n",
       "      <th>Queensboro Bridge</th>\n",
       "      <th>Total</th>\n",
       "      <th>mean temperature</th>\n",
       "      <th>Weather State</th>\n",
       "      <th>Precipitation Normalized</th>\n",
       "    </tr>\n",
       "  </thead>\n",
       "  <tbody>\n",
       "    <tr>\n",
       "      <th>0</th>\n",
       "      <td>0</td>\n",
       "      <td>2016-04-01</td>\n",
       "      <td>1</td>\n",
       "      <td>78.1</td>\n",
       "      <td>66.0</td>\n",
       "      <td>0.01</td>\n",
       "      <td>1704.0</td>\n",
       "      <td>3126</td>\n",
       "      <td>4115.0</td>\n",
       "      <td>2552.0</td>\n",
       "      <td>11497</td>\n",
       "      <td>72.05</td>\n",
       "      <td>None</td>\n",
       "      <td>0.021277</td>\n",
       "    </tr>\n",
       "    <tr>\n",
       "      <th>1</th>\n",
       "      <td>1</td>\n",
       "      <td>2016-04-02</td>\n",
       "      <td>2</td>\n",
       "      <td>55.0</td>\n",
       "      <td>48.9</td>\n",
       "      <td>0.15</td>\n",
       "      <td>827.0</td>\n",
       "      <td>1646</td>\n",
       "      <td>2565.0</td>\n",
       "      <td>1884.0</td>\n",
       "      <td>6922</td>\n",
       "      <td>51.95</td>\n",
       "      <td>None</td>\n",
       "      <td>0.319149</td>\n",
       "    </tr>\n",
       "    <tr>\n",
       "      <th>2</th>\n",
       "      <td>2</td>\n",
       "      <td>2016-04-03</td>\n",
       "      <td>3</td>\n",
       "      <td>39.9</td>\n",
       "      <td>34.0</td>\n",
       "      <td>0.09</td>\n",
       "      <td>526.0</td>\n",
       "      <td>1232</td>\n",
       "      <td>1695.0</td>\n",
       "      <td>1306.0</td>\n",
       "      <td>4759</td>\n",
       "      <td>36.95</td>\n",
       "      <td>None</td>\n",
       "      <td>0.191489</td>\n",
       "    </tr>\n",
       "    <tr>\n",
       "      <th>3</th>\n",
       "      <td>3</td>\n",
       "      <td>2016-04-04</td>\n",
       "      <td>4</td>\n",
       "      <td>44.1</td>\n",
       "      <td>33.1</td>\n",
       "      <td>0.47</td>\n",
       "      <td>521.0</td>\n",
       "      <td>1067</td>\n",
       "      <td>1440.0</td>\n",
       "      <td>1307.0</td>\n",
       "      <td>4335</td>\n",
       "      <td>38.60</td>\n",
       "      <td>(S)</td>\n",
       "      <td>1.000000</td>\n",
       "    </tr>\n",
       "    <tr>\n",
       "      <th>4</th>\n",
       "      <td>4</td>\n",
       "      <td>2016-04-05</td>\n",
       "      <td>5</td>\n",
       "      <td>42.1</td>\n",
       "      <td>26.1</td>\n",
       "      <td>0</td>\n",
       "      <td>1416.0</td>\n",
       "      <td>2617</td>\n",
       "      <td>3081.0</td>\n",
       "      <td>2357.0</td>\n",
       "      <td>9471</td>\n",
       "      <td>34.10</td>\n",
       "      <td>None</td>\n",
       "      <td>0.000000</td>\n",
       "    </tr>\n",
       "  </tbody>\n",
       "</table>\n",
       "</div>"
      ],
      "text/plain": [
       "   Unnamed: 0        Date  Day  High Temp (°F)  Low Temp (°F) Precipitation   \n",
       "0           0  2016-04-01    1            78.1           66.0          0.01  \\\n",
       "1           1  2016-04-02    2            55.0           48.9          0.15   \n",
       "2           2  2016-04-03    3            39.9           34.0          0.09   \n",
       "3           3  2016-04-04    4            44.1           33.1          0.47   \n",
       "4           4  2016-04-05    5            42.1           26.1             0   \n",
       "\n",
       "   Brooklyn Bridge  Manhattan Bridge  Williamsburg Bridge  Queensboro Bridge   \n",
       "0           1704.0              3126               4115.0             2552.0  \\\n",
       "1            827.0              1646               2565.0             1884.0   \n",
       "2            526.0              1232               1695.0             1306.0   \n",
       "3            521.0              1067               1440.0             1307.0   \n",
       "4           1416.0              2617               3081.0             2357.0   \n",
       "\n",
       "   Total  mean temperature Weather State  Precipitation Normalized  \n",
       "0  11497             72.05          None                  0.021277  \n",
       "1   6922             51.95          None                  0.319149  \n",
       "2   4759             36.95          None                  0.191489  \n",
       "3   4335             38.60           (S)                  1.000000  \n",
       "4   9471             34.10          None                  0.000000  "
      ]
     },
     "execution_count": 199,
     "metadata": {},
     "output_type": "execute_result"
    }
   ],
   "source": [
    "new_nyc_data.head()"
   ]
  },
  {
   "cell_type": "markdown",
   "metadata": {},
   "source": [
    "Decided to use the scaled preicipitation to understand relation of number of cyclists with rain, also using a linear regression. "
   ]
  },
  {
   "cell_type": "code",
   "execution_count": 200,
   "metadata": {},
   "outputs": [
    {
     "data": {
      "text/plain": [
       "<Axes: xlabel='Precipitation Normalized', ylabel='Total'>"
      ]
     },
     "execution_count": 200,
     "metadata": {},
     "output_type": "execute_result"
    },
    {
     "data": {
      "image/png": "[encoded data removed]",
      "text/plain": [
       "<Figure size 640x480 with 1 Axes>"
      ]
     },
     "metadata": {},
     "output_type": "display_data"
    }
   ],
   "source": [
    "sns.regplot(x=new_nyc_data['Precipitation Normalized'], y=new_nyc_data['Total'])"
   ]
  },
  {
   "cell_type": "code",
   "execution_count": 201,
   "metadata": {},
   "outputs": [
    {
     "data": {
      "text/plain": [
       "<Axes: xlabel='Precipitation Normalized', ylabel='Total'>"
      ]
     },
     "execution_count": 201,
     "metadata": {},
     "output_type": "execute_result"
    },
    {
     "data": {
      "image/png": "[encoded data removed]",
      "text/plain": [
       "<Figure size 640x480 with 1 Axes>"
      ]
     },
     "metadata": {},
     "output_type": "display_data"
    }
   ],
   "source": [
    "sns.histplot(x=new_nyc_data['Precipitation Normalized'], y=new_nyc_data['Total'])"
   ]
  },
  {
   "cell_type": "markdown",
   "metadata": {},
   "source": [
    "using a joinplot to give a better visualisation of precipitation and total number of cyclists."
   ]
  },
  {
   "cell_type": "code",
   "execution_count": 202,
   "metadata": {},
   "outputs": [
    {
     "data": {
      "text/plain": [
       "<seaborn.axisgrid.JointGrid at 0x794dcaeb6530>"
      ]
     },
     "execution_count": 202,
     "metadata": {},
     "output_type": "execute_result"
    },
    {
     "data": {
      "image/png": "[encoded data removed]",
      "text/plain": [
       "<Figure size 600x600 with 3 Axes>"
      ]
     },
     "metadata": {},
     "output_type": "display_data"
    }
   ],
   "source": [
    "sns.jointplot(x=new_nyc_data['Total'], y=new_nyc_data['Precipitation Normalized'], kind=\"kde\", fill=True)"
   ]
  },
  {
   "cell_type": "code",
   "execution_count": 203,
   "metadata": {},
   "outputs": [],
   "source": [
    "test_df = nyc_cycle_data.drop_duplicates(subset=['Date'])"
   ]
  },
  {
   "cell_type": "code",
   "execution_count": 204,
   "metadata": {},
   "outputs": [
    {
     "data": {
      "text/html": [
       "<div>\n",
       "<style scoped>\n",
       "    .dataframe tbody tr th:only-of-type {\n",
       "        vertical-align: middle;\n",
       "    }\n",
       "\n",
       "    .dataframe tbody tr th {\n",
       "        vertical-align: top;\n",
       "    }\n",
       "\n",
       "    .dataframe thead th {\n",
       "        text-align: right;\n",
       "    }\n",
       "</style>\n",
       "<table border=\"1\" class=\"dataframe\">\n",
       "  <thead>\n",
       "    <tr style=\"text-align: right;\">\n",
       "      <th></th>\n",
       "      <th>Unnamed: 0</th>\n",
       "      <th>Date</th>\n",
       "      <th>Day</th>\n",
       "      <th>High Temp (°F)</th>\n",
       "      <th>Low Temp (°F)</th>\n",
       "      <th>Precipitation</th>\n",
       "      <th>Brooklyn Bridge</th>\n",
       "      <th>Manhattan Bridge</th>\n",
       "      <th>Williamsburg Bridge</th>\n",
       "      <th>Queensboro Bridge</th>\n",
       "      <th>Total</th>\n",
       "    </tr>\n",
       "  </thead>\n",
       "  <tbody>\n",
       "    <tr>\n",
       "      <th>0</th>\n",
       "      <td>0</td>\n",
       "      <td>2016-04-01 00:00:00</td>\n",
       "      <td>2016-04-01 00:00:00</td>\n",
       "      <td>78.1</td>\n",
       "      <td>66.0</td>\n",
       "      <td>0.01</td>\n",
       "      <td>1704.0</td>\n",
       "      <td>3126</td>\n",
       "      <td>4115.0</td>\n",
       "      <td>2552.0</td>\n",
       "      <td>11497</td>\n",
       "    </tr>\n",
       "    <tr>\n",
       "      <th>1</th>\n",
       "      <td>1</td>\n",
       "      <td>2016-04-02 00:00:00</td>\n",
       "      <td>2016-04-02 00:00:00</td>\n",
       "      <td>55.0</td>\n",
       "      <td>48.9</td>\n",
       "      <td>0.15</td>\n",
       "      <td>827.0</td>\n",
       "      <td>1646</td>\n",
       "      <td>2565.0</td>\n",
       "      <td>1884.0</td>\n",
       "      <td>6922</td>\n",
       "    </tr>\n",
       "    <tr>\n",
       "      <th>2</th>\n",
       "      <td>2</td>\n",
       "      <td>2016-04-03 00:00:00</td>\n",
       "      <td>2016-04-03 00:00:00</td>\n",
       "      <td>39.9</td>\n",
       "      <td>34.0</td>\n",
       "      <td>0.09</td>\n",
       "      <td>526.0</td>\n",
       "      <td>1232</td>\n",
       "      <td>1695.0</td>\n",
       "      <td>1306.0</td>\n",
       "      <td>4759</td>\n",
       "    </tr>\n",
       "    <tr>\n",
       "      <th>3</th>\n",
       "      <td>3</td>\n",
       "      <td>2016-04-04 00:00:00</td>\n",
       "      <td>2016-04-04 00:00:00</td>\n",
       "      <td>44.1</td>\n",
       "      <td>33.1</td>\n",
       "      <td>0.47 (S)</td>\n",
       "      <td>521.0</td>\n",
       "      <td>1067</td>\n",
       "      <td>1440.0</td>\n",
       "      <td>1307.0</td>\n",
       "      <td>4335</td>\n",
       "    </tr>\n",
       "    <tr>\n",
       "      <th>4</th>\n",
       "      <td>4</td>\n",
       "      <td>2016-04-05 00:00:00</td>\n",
       "      <td>2016-04-05 00:00:00</td>\n",
       "      <td>42.1</td>\n",
       "      <td>26.1</td>\n",
       "      <td>0</td>\n",
       "      <td>1416.0</td>\n",
       "      <td>2617</td>\n",
       "      <td>3081.0</td>\n",
       "      <td>2357.0</td>\n",
       "      <td>9471</td>\n",
       "    </tr>\n",
       "  </tbody>\n",
       "</table>\n",
       "</div>"
      ],
      "text/plain": [
       "   Unnamed: 0                 Date                  Day  High Temp (°F)   \n",
       "0           0  2016-04-01 00:00:00  2016-04-01 00:00:00            78.1  \\\n",
       "1           1  2016-04-02 00:00:00  2016-04-02 00:00:00            55.0   \n",
       "2           2  2016-04-03 00:00:00  2016-04-03 00:00:00            39.9   \n",
       "3           3  2016-04-04 00:00:00  2016-04-04 00:00:00            44.1   \n",
       "4           4  2016-04-05 00:00:00  2016-04-05 00:00:00            42.1   \n",
       "\n",
       "   Low Temp (°F) Precipitation  Brooklyn Bridge  Manhattan Bridge   \n",
       "0           66.0          0.01           1704.0              3126  \\\n",
       "1           48.9          0.15            827.0              1646   \n",
       "2           34.0          0.09            526.0              1232   \n",
       "3           33.1      0.47 (S)            521.0              1067   \n",
       "4           26.1             0           1416.0              2617   \n",
       "\n",
       "   Williamsburg Bridge  Queensboro Bridge  Total  \n",
       "0               4115.0             2552.0  11497  \n",
       "1               2565.0             1884.0   6922  \n",
       "2               1695.0             1306.0   4759  \n",
       "3               1440.0             1307.0   4335  \n",
       "4               3081.0             2357.0   9471  "
      ]
     },
     "execution_count": 204,
     "metadata": {},
     "output_type": "execute_result"
    }
   ],
   "source": [
    "test_df.head()"
   ]
  },
  {
   "cell_type": "code",
   "execution_count": null,
   "metadata": {},
   "outputs": [],
   "source": []
  }
 ],
 "metadata": {
  "kernelspec": {
   "display_name": ".venv",
   "language": "python",
   "name": "python3"
  },
  "language_info": {
   "codemirror_mode": {
    "name": "ipython",
    "version": 3
   },
   "file_extension": ".py",
   "mimetype": "text/x-python",
   "name": "python",
   "nbconvert_exporter": "python",
   "pygments_lexer": "ipython3",
   "version": "3.10.12"
  }
 },
 "nbformat": 4,
 "nbformat_minor": 2
}
